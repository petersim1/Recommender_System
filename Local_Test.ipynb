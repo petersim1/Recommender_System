{
 "cells": [
  {
   "cell_type": "code",
   "execution_count": 1,
   "metadata": {},
   "outputs": [],
   "source": [
    "import pyspark\n",
    "import random\n",
    "\n",
    "seed = random.seed(100)\n",
    "\n",
    "import data_preparation\n",
    "import Cross_Validate"
   ]
  },
  {
   "cell_type": "code",
   "execution_count": 2,
   "metadata": {},
   "outputs": [
    {
     "data": {
      "text/html": [
       "\n",
       "            <div>\n",
       "                <p><b>SparkSession - in-memory</b></p>\n",
       "                \n",
       "        <div>\n",
       "            <p><b>SparkContext</b></p>\n",
       "\n",
       "            <p><a href=\"http://petersismacbook:4040\">Spark UI</a></p>\n",
       "\n",
       "            <dl>\n",
       "              <dt>Version</dt>\n",
       "                <dd><code>v2.4.5</code></dd>\n",
       "              <dt>Master</dt>\n",
       "                <dd><code>local[*]</code></dd>\n",
       "              <dt>AppName</dt>\n",
       "                <dd><code>Ops</code></dd>\n",
       "            </dl>\n",
       "        </div>\n",
       "        \n",
       "            </div>\n",
       "        "
      ],
      "text/plain": [
       "<pyspark.sql.session.SparkSession at 0x11eb745f8>"
      ]
     },
     "execution_count": 2,
     "metadata": {},
     "output_type": "execute_result"
    }
   ],
   "source": [
    "spark = pyspark.sql.SparkSession.builder.appName('Ops').getOrCreate()\n",
    "spark.newSession()"
   ]
  },
  {
   "cell_type": "code",
   "execution_count": 5,
   "metadata": {},
   "outputs": [],
   "source": [
    "interactions_file = 'downsampled_files/sampled_df_practice.csv'\n",
    "users_file = 'downsampled_files/users_practice.csv'\n",
    "books_file = 'downsampled_files/books_practice.csv'\n",
    "\n",
    "data_prep = data_preparation.Prep_Data(spark,partition_value=10)"
   ]
  },
  {
   "cell_type": "code",
   "execution_count": 6,
   "metadata": {},
   "outputs": [],
   "source": [
    "interactions,users,books = data_prep.Get_Data_Local(interactions_file,users_file,books_file)\n",
    "\n",
    "interactions_trimmed = data_prep.Trim_LowNum(interactions,min_allowed=10,cut_not_read=True)"
   ]
  },
  {
   "cell_type": "code",
   "execution_count": 7,
   "metadata": {},
   "outputs": [],
   "source": [
    "interactions_sampled = data_prep.DownSample(interactions_trimmed,.5)"
   ]
  },
  {
   "cell_type": "code",
   "execution_count": 8,
   "metadata": {},
   "outputs": [],
   "source": [
    "train_val , test, test_to_val = data_prep.Create_TestSet(interactions_sampled,percent_train=.6)"
   ]
  },
  {
   "cell_type": "code",
   "execution_count": null,
   "metadata": {},
   "outputs": [],
   "source": [
    "train_val.write.parquet('split_files/train_val_split.parquet','overwrite')\n",
    "test_to_val.write.parquet('split_files/test_to_val.parquet','overwrite')\n",
    "test.write.parquet('split_files/test_split.parquet','overwrite')"
   ]
  },
  {
   "cell_type": "markdown",
   "metadata": {},
   "source": [
    "# Now to Work with modeling\n",
    "\n",
    "## What I did above was :\n",
    " - Read in goodreads genre file\n",
    " - downsampled based off user\n",
    " - randomly split into train/val/test based off user\n",
    " - pulled half of books per user from val/test back into training set."
   ]
  },
  {
   "cell_type": "code",
   "execution_count": 3,
   "metadata": {},
   "outputs": [],
   "source": [
    "train_val = spark.read.parquet('split_files/train_val_split.parquet')\n",
    "test_to_val = spark.read.parquet('split_files/test_to_val.parquet')\n",
    "test = spark.read.parquet('split_files/test_split.parquet')"
   ]
  },
  {
   "cell_type": "code",
   "execution_count": 4,
   "metadata": {},
   "outputs": [],
   "source": [
    "hyperparam_grid = Cross_Validate.Create_Grid()"
   ]
  },
  {
   "cell_type": "code",
   "execution_count": 5,
   "metadata": {},
   "outputs": [
    {
     "name": "stdout",
     "output_type": "stream",
     "text": [
      "0,\n",
      "0,\n",
      "0,\n",
      "0,\n",
      "0,\n"
     ]
    }
   ],
   "source": [
    "out = Cross_Validate.Cross_Validation(spark,train_val,test_to_val,hyperparam_grid)"
   ]
  },
  {
   "cell_type": "code",
   "execution_count": 6,
   "metadata": {},
   "outputs": [
    {
     "data": {
      "text/html": [
       "<div>\n",
       "<style scoped>\n",
       "    .dataframe tbody tr th:only-of-type {\n",
       "        vertical-align: middle;\n",
       "    }\n",
       "\n",
       "    .dataframe tbody tr th {\n",
       "        vertical-align: top;\n",
       "    }\n",
       "\n",
       "    .dataframe thead th {\n",
       "        text-align: right;\n",
       "    }\n",
       "</style>\n",
       "<table border=\"1\" class=\"dataframe\">\n",
       "  <thead>\n",
       "    <tr style=\"text-align: right;\">\n",
       "      <th></th>\n",
       "      <th>rank</th>\n",
       "      <th>regParam</th>\n",
       "      <th>maxIter</th>\n",
       "      <th>CV_1</th>\n",
       "      <th>CV_2</th>\n",
       "      <th>CV_3</th>\n",
       "      <th>CV_4</th>\n",
       "      <th>CV_5</th>\n",
       "    </tr>\n",
       "  </thead>\n",
       "  <tbody>\n",
       "    <tr>\n",
       "      <th>0</th>\n",
       "      <td>10.0</td>\n",
       "      <td>0.1</td>\n",
       "      <td>10.0</td>\n",
       "      <td>1.43792</td>\n",
       "      <td>1.397787</td>\n",
       "      <td>1.440197</td>\n",
       "      <td>1.461973</td>\n",
       "      <td>1.428468</td>\n",
       "    </tr>\n",
       "  </tbody>\n",
       "</table>\n",
       "</div>"
      ],
      "text/plain": [
       "   rank  regParam  maxIter     CV_1      CV_2      CV_3      CV_4      CV_5\n",
       "0  10.0       0.1     10.0  1.43792  1.397787  1.440197  1.461973  1.428468"
      ]
     },
     "execution_count": 6,
     "metadata": {},
     "output_type": "execute_result"
    }
   ],
   "source": [
    "out"
   ]
  },
  {
   "cell_type": "markdown",
   "metadata": {},
   "source": [
    "# Now to access final model and save output"
   ]
  },
  {
   "cell_type": "code",
   "execution_count": 3,
   "metadata": {},
   "outputs": [],
   "source": [
    "train_val = spark.read.parquet('split_files/train_val_split.parquet')\n",
    "test_to_val = spark.read.parquet('split_files/test_to_val.parquet')\n",
    "test = spark.read.parquet('split_files/test_split.parquet')"
   ]
  },
  {
   "cell_type": "code",
   "execution_count": 4,
   "metadata": {},
   "outputs": [],
   "source": [
    "hyperparam_grid = Cross_Validate.Create_Grid(rank=[20],regParam=[.1],maxIter=[15])"
   ]
  },
  {
   "cell_type": "code",
   "execution_count": 5,
   "metadata": {},
   "outputs": [
    {
     "name": "stdout",
     "output_type": "stream",
     "text": [
      "Final Model evaluation for rmse : 1.3872734361611831\n"
     ]
    }
   ],
   "source": [
    "model_out = 'practice_model.json'\n",
    "Cross_Validate.Train_Final_Model(spark,train_val,test_to_val,test,hyperparam_grid,\n",
    "                                 model_out,evaluation_metric='rmse',partition_value=10,random_seed=seed)\n",
    "\n"
   ]
  },
  {
   "cell_type": "code",
   "execution_count": 6,
   "metadata": {},
   "outputs": [
    {
     "name": "stdout",
     "output_type": "stream",
     "text": [
      "Cross_Validate.py      derby.log              shell_setup.sh\r\n",
      "Local_Test.ipynb       \u001b[34mdownsampled_files\u001b[m\u001b[m      \u001b[34mspark-warehouse\u001b[m\u001b[m\r\n",
      "README.md              local_pyspark_setup.sh \u001b[34msplit_files\u001b[m\u001b[m\r\n",
      "\u001b[34m__pycache__\u001b[m\u001b[m            \u001b[34mmetastore_db\u001b[m\u001b[m\r\n",
      "data_preparation.py    \u001b[34mpractice_model.json\u001b[m\u001b[m\r\n"
     ]
    }
   ],
   "source": [
    "!ls"
   ]
  },
  {
   "cell_type": "code",
   "execution_count": null,
   "metadata": {},
   "outputs": [],
   "source": []
  }
 ],
 "metadata": {
  "kernelspec": {
   "display_name": "Python 3",
   "language": "python",
   "name": "python3"
  },
  "language_info": {
   "codemirror_mode": {
    "name": "ipython",
    "version": 3
   },
   "file_extension": ".py",
   "mimetype": "text/x-python",
   "name": "python",
   "nbconvert_exporter": "python",
   "pygments_lexer": "ipython3",
   "version": "3.6.8"
  }
 },
 "nbformat": 4,
 "nbformat_minor": 4
}
