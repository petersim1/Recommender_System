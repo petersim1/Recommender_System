{
 "cells": [
  {
   "cell_type": "code",
   "execution_count": 6,
   "metadata": {},
   "outputs": [
    {
     "name": "stderr",
     "output_type": "stream",
     "text": [
      "/Users/petersimone/anaconda3/lib/python3.6/site-packages/lightfm/_lightfm_fast.py:9: UserWarning: LightFM was compiled without OpenMP support. Only a single thread will be used.\n",
      "  warnings.warn('LightFM was compiled without OpenMP support. '\n"
     ]
    }
   ],
   "source": [
    "import numpy as np\n",
    "import pandas as pd\n",
    "import lightfm\n",
    "from lightfm import data,evaluation\n",
    "from sklearn import preprocessing\n",
    "from scipy.sparse import coo_matrix \n",
    "import os\n",
    "import time\n",
    "import matplotlib.pyplot as plt\n",
    "\n",
    "%matplotlib inline"
   ]
  },
  {
   "cell_type": "code",
   "execution_count": 3,
   "metadata": {},
   "outputs": [],
   "source": [
    "final_arr = np.array([])\n",
    "\n",
    "file_path = 'extension_files/UseForExtensionLocal_20percentDownsample.csv/'\n",
    "\n",
    "chunk_read = np.array([np.genfromtxt(file_path+file,delimiter=',',dtype=int) for file in os.listdir(file_path) if file.endswith('.csv')])\n",
    "\n",
    "read_out = chunk_read[0]\n",
    "for arr in chunk_read[1:] :\n",
    "    read_out = np.concatenate((read_out,arr))\n"
   ]
  },
  {
   "cell_type": "code",
   "execution_count": 322,
   "metadata": {},
   "outputs": [],
   "source": [
    "unique_users = set(read_out[:,0])\n",
    "unique_items = set(read_out[:,1])\n"
   ]
  },
  {
   "cell_type": "code",
   "execution_count": 323,
   "metadata": {},
   "outputs": [
    {
     "data": {
      "text/plain": [
       "(143644, 1475423)"
      ]
     },
     "execution_count": 323,
     "metadata": {},
     "output_type": "execute_result"
    }
   ],
   "source": [
    "len(unique_users) , len(unique_items)"
   ]
  },
  {
   "cell_type": "code",
   "execution_count": 453,
   "metadata": {},
   "outputs": [],
   "source": [
    "sampled_users = np.random.choice(list(unique_users),int(len(unique_users)*.1),replace=False)"
   ]
  },
  {
   "cell_type": "code",
   "execution_count": 454,
   "metadata": {},
   "outputs": [],
   "source": [
    "sampled_data = read_out[np.where(np.isin(read_out[:,0],sampled_users))]\n",
    "\n",
    "sampled_unique_users = set(sampled_data[:,0])\n",
    "sampled_unique_items = set(sampled_data[:,1])\n",
    "\n",
    "shuffled = np.random.choice(list(sampled_unique_users),len(sampled_unique_users),replace=False)\n",
    "train = sampled_data[np.where(np.isin(sampled_data[:,0],shuffled[:int(len(shuffled)*.8)]))]\n",
    "test = sampled_data[np.where(np.isin(sampled_data[:,0],shuffled[int(len(shuffled)*.8):]))]\n"
   ]
  },
  {
   "cell_type": "code",
   "execution_count": 455,
   "metadata": {},
   "outputs": [],
   "source": [
    "dict_enum = {}\n",
    "for i in test[:,0] :\n",
    "    if i in dict_enum :\n",
    "        dict_enum[i] += 1\n",
    "    else :\n",
    "        dict_enum[i] = 1\n",
    "        \n",
    "dict_take = {}\n",
    "inds_to_train = []\n",
    "inds_to_test = []\n",
    "for i,v in enumerate(test) : \n",
    "    if v[0] in dict_take :\n",
    "        if dict_take[v[0]] > int(dict_enum[v[0]]/2) :\n",
    "            inds_to_train.append(i)\n",
    "        else :\n",
    "            inds_to_test.append(i)\n",
    "        dict_take[v[0]] += 1\n",
    "    else :\n",
    "        dict_take[v[0]] = 1"
   ]
  },
  {
   "cell_type": "code",
   "execution_count": 456,
   "metadata": {},
   "outputs": [],
   "source": [
    "train = np.concatenate((train,test[inds_to_train]))\n",
    "test = test[inds_to_test]"
   ]
  },
  {
   "cell_type": "code",
   "execution_count": 457,
   "metadata": {},
   "outputs": [],
   "source": [
    "sampled_unique_users = set(train[:,0])\n",
    "sampled_unique_items = set(train[:,1])"
   ]
  },
  {
   "cell_type": "code",
   "execution_count": 458,
   "metadata": {},
   "outputs": [],
   "source": [
    "def informed_train_test(train_df,test_df):\n",
    "    \n",
    "    test_df_use = test_df[np.isin(test_df[:,1],train_df[:,1])]\n",
    "    \n",
    "    trans_cat_train = dict()\n",
    "    trans_cat_test = dict()\n",
    "    for i in [0,1]:\n",
    "        cate_enc = preprocessing.LabelEncoder()\n",
    "        trans_cat_train[i] = cate_enc.fit_transform(train_df[:,i])\n",
    "        trans_cat_test[i] = cate_enc.transform(test_df_use[:,i],)\n",
    "# --- Encode ratings:\n",
    "    cate_enc = preprocessing.LabelEncoder()\n",
    "    ratings = dict()\n",
    "    ratings['train'] = cate_enc.fit_transform(train_df[:,3])\n",
    "    ratings['test'] = cate_enc.transform(test_df_use[:,3])\n",
    "    n_users = len(set(trans_cat_train[0]))\n",
    "    n_items = len(set(trans_cat_train[1]))\n",
    "    train = coo_matrix((ratings['train'], (trans_cat_train[0],trans_cat_train[1])),\n",
    "                       shape=(n_users, n_items))\n",
    "    test = coo_matrix((ratings['test'], (trans_cat_test[0],trans_cat_test[1])),\n",
    "                      shape=(n_users, n_items))\n",
    "    return train, test"
   ]
  },
  {
   "cell_type": "code",
   "execution_count": 459,
   "metadata": {},
   "outputs": [],
   "source": [
    "train_formatted,test_formatted = informed_train_test(train,test)"
   ]
  },
  {
   "cell_type": "code",
   "execution_count": 460,
   "metadata": {},
   "outputs": [
    {
     "name": "stdout",
     "output_type": "stream",
     "text": [
      "Epoch 0\n",
      "Epoch 1\n",
      "Epoch 2\n",
      "Epoch 3\n",
      "Epoch 4\n",
      "Epoch 5\n",
      "Epoch 6\n",
      "Epoch 7\n",
      "Epoch 8\n",
      "Epoch 9\n"
     ]
    },
    {
     "data": {
      "text/plain": [
       "<lightfm.lightfm.LightFM at 0x1a3419d668>"
      ]
     },
     "execution_count": 460,
     "metadata": {},
     "output_type": "execute_result"
    }
   ],
   "source": [
    "model=lightfm.LightFM()\n",
    "model.fit(train_formatted,epochs=10,verbose=True)"
   ]
  },
  {
   "cell_type": "code",
   "execution_count": 461,
   "metadata": {},
   "outputs": [],
   "source": [
    "to_predict = np.argwhere(test_formatted.tocsr() >  0)"
   ]
  },
  {
   "cell_type": "code",
   "execution_count": 523,
   "metadata": {},
   "outputs": [],
   "source": [
    "predictions = model.predict(to_predict[:,0],to_predict[:,1])"
   ]
  },
  {
   "cell_type": "code",
   "execution_count": 601,
   "metadata": {},
   "outputs": [],
   "source": [
    "def Average_Precision(user,k) :\n",
    "    inds = np.where(to_predict[:,0] == user)\n",
    "    user_predictions = predictions[inds]\n",
    "    user_actual = test_formatted.toarray()[to_predict[inds][:,0],to_predict[inds][:,1]]\n",
    "    relevant_books = to_predict[inds][:,1][np.where(user_actual>= relevance_cutoff)[0]]\n",
    "    \n",
    "    if len(relevant_books) == 0 :\n",
    "        return 1,0\n",
    "    \n",
    "    books_predicted_sort = to_predict[inds][:,1][np.array(list(reversed(user_predictions.argsort())))]\n",
    "    \n",
    "    books_predicted_sort = books_predicted_sort[:min(k,len(books_predicted_sort))]\n",
    "    \n",
    "    p = 0\n",
    "    num_relevant = 0\n",
    "    for i in range(len(books_predicted_sort)) :\n",
    "        if books_predicted_sort[i] in relevant_books :\n",
    "            num_relevant += 1\n",
    "            p += num_relevant/(i+1)\n",
    "            \n",
    "    return p/num_relevant , len(books_predicted_sort)"
   ]
  },
  {
   "cell_type": "code",
   "execution_count": 602,
   "metadata": {},
   "outputs": [],
   "source": [
    "relevance_cutoff = 3\n",
    "k=20\n"
   ]
  },
  {
   "cell_type": "code",
   "execution_count": 605,
   "metadata": {
    "scrolled": true
   },
   "outputs": [],
   "source": [
    "MAP = []\n",
    "for user in np.unique(to_predict[:,0]) :\n",
    "    add = Average_Precision(user,k)\n",
    "    MAP.append(add[0])"
   ]
  },
  {
   "cell_type": "code",
   "execution_count": 607,
   "metadata": {},
   "outputs": [
    {
     "data": {
      "text/plain": [
       "0.9387859116452724"
      ]
     },
     "execution_count": 607,
     "metadata": {},
     "output_type": "execute_result"
    }
   ],
   "source": [
    "np.sum(MAP)/len(MAP)"
   ]
  },
  {
   "cell_type": "code",
   "execution_count": null,
   "metadata": {},
   "outputs": [],
   "source": []
  },
  {
   "cell_type": "code",
   "execution_count": null,
   "metadata": {},
   "outputs": [],
   "source": []
  },
  {
   "cell_type": "code",
   "execution_count": null,
   "metadata": {},
   "outputs": [],
   "source": []
  },
  {
   "cell_type": "code",
   "execution_count": null,
   "metadata": {},
   "outputs": [],
   "source": []
  },
  {
   "cell_type": "code",
   "execution_count": null,
   "metadata": {},
   "outputs": [],
   "source": []
  },
  {
   "cell_type": "code",
   "execution_count": 4,
   "metadata": {},
   "outputs": [],
   "source": [
    "import matplotlib.pyplot as plt\n",
    "\n",
    "%matplotlib inline"
   ]
  },
  {
   "cell_type": "code",
   "execution_count": 1,
   "metadata": {},
   "outputs": [],
   "source": [
    "x_label_lightfm = [0.001, 0.005, 0.01, 0.02, 0.05]\n",
    "\n",
    "train_time_lightfm = [[ 0.6541121,   0.6644969,   0.65370417,  0.65571189,  0.74367118],\n",
    "                      [ 4.08198977,  4.0553441,   4.0596149,   4.03409791,  4.06879306],\n",
    "                      [ 9.30799389,  9.27614188,  9.2617209,   9.32566881,  9.71324492],\n",
    "                      [19.06454587, 18.56076694, 18.94016099, 19.80817604, 18.83944964],\n",
    "                      [53.47125101, 54.29746199, 53.74022603, 53.97710991, 52.26269484]]\n",
    "\n",
    "eval_time_lightfm = [[6.00367069e-01, 5.82252026e-01, 5.86526155e-01, 5.72335720e-01, 7.55067825e-01],\n",
    "                     [2.22321498e+01, 2.22014327e+01, 2.24500420e+01, 2.22469721e+01, 2.22547870e+01],\n",
    "                     [1.05166945e+02, 1.05623832e+02, 1.05127169e+02, 1.05592456e+02, 1.05420190e+02],\n",
    "                     [4.16713798e+02, 4.14583201e+02, 4.14359188e+02, 4.15249530e+02, 4.14281878e+02],\n",
    "                     [2.83735668e+03, 2.84353437e+03, 2.84626750e+03, 2.82962520e+03, 2.77938284e+03]]\n",
    "\n",
    "performance_lightfm = [[0.94609556, 0.94647885, 0.94441027, 0.94470071, 0.94411612],\n",
    "                       [0.93882091, 0.93870928, 0.93867312, 0.93872763, 0.93879989],\n",
    "                       [0.93701363, 0.93693933, 0.93719569, 0.9367264 , 0.93694041],\n",
    "                       [0.93779408, 0.9377481,  0.93803999, 0.9380026 , 0.9379837 ],\n",
    "                       [0.93771789, 0.93833982, 0.93815516, 0.93808743, 0.93785045]]\n"
   ]
  },
  {
   "cell_type": "code",
   "execution_count": 2,
   "metadata": {},
   "outputs": [],
   "source": [
    "x_label_als = [.001, .005, .01, .02, .05 , 0.1 , .2]\n",
    "\n",
    "train_time_als = [[ 61.08510852,  19.99755239,  26.14561081,  21.24790359,  22.5711174 ],\n",
    "                  [134.32704043,  37.83813   ,  42.7979176 ,  43.62021947,  40.75587201],\n",
    "                  [ 74.83646989,  42.65509057,  51.27994347,  47.41129446,  30.81812692],\n",
    "                  [ 88.31430912,  52.80788946,  47.79821038,  50.91190386,  45.86591697],\n",
    "                  [450.18737864, 184.9167304 , 159.16691875, 152.77761984, 122.58336473],\n",
    "                  [198.89914513, 107.18458724, 102.76880813,  86.64749932,  79.39531493],\n",
    "                  [654.26430082, 332.09927559, 269.09138823, 279.16575956, 309.14595413]]\n",
    "\n",
    "eval_time_als = [[ 88.7612927,   94.39500117, 107.78424835,  85.93214679,  95.31382418],\n",
    "                 [125.24140167, 113.60419869, 131.19752479, 115.52850318,  96.47797179],\n",
    "                 [114.61029005, 142.43597841, 120.20931125,  89.55556273, 107.75853848],\n",
    "                 [136.23759055, 129.21858263, 126.06732821, 114.85508037, 104.09692502],\n",
    "                 [523.74887824, 467.18941689, 424.0835247 , 331.03487206, 303.3146739 ],\n",
    "                 [150.037045  , 135.07060647, 142.57085943, 125.00756764, 132.62259412],\n",
    "                 [463.40399218, 424.83811641, 391.55840254, 448.5684886 , 401.75117087]]\n",
    "\n",
    "\n",
    "performance_als = [[0.68583624, 0.68583624, 0.68583624, 0.68583624, 0.68583624],\n",
    "                   [0.67633533, 0.67633533, 0.67633533, 0.67633533, 0.67633533],\n",
    "                   [0.66858271, 0.66858271, 0.66858271, 0.66858271, 0.66858271],\n",
    "                   [0.66201054, 0.66201054, 0.66201054, 0.66201054, 0.66201054],\n",
    "                   [0.65816538, 0.65816538, 0.65816538, 0.65816538, 0.65816538],\n",
    "                   [0.65350588, 0.65350586, 0.65350588, 0.65350586, 0.65350588],\n",
    "                   [0.6499926 , 0.6499926 , 0.6499926 , 0.6499926 , 0.6499926 ]]\n"
   ]
  },
  {
   "cell_type": "code",
   "execution_count": 11,
   "metadata": {},
   "outputs": [
    {
     "data": {
      "image/png": "[encoded data removed]",
      "text/plain": [
       "<Figure size 1296x360 with 3 Axes>"
      ]
     },
     "metadata": {
      "needs_background": "light"
     },
     "output_type": "display_data"
    }
   ],
   "source": [
    "f, (ax1, ax2, ax3) = plt.subplots(1, 3, figsize=(18,5))\n",
    "\n",
    "ax1.plot(x_label_lightfm,np.mean(train_time_lightfm,axis=1))\n",
    "ax1.plot(x_label_als[:5],[np.mean(a) for a in train_time_als[:5]])\n",
    "#ax1.set_xticks(x_label_lightfm)\n",
    "ax1.set_title('Model Training Time')\n",
    "ax1.set_ylabel('Seconds')\n",
    "ax1.set_xlabel('Percent of Dataset Used')\n",
    "ax2.plot(x_label_lightfm,np.mean(eval_time_lightfm,axis=1))\n",
    "ax2.plot(x_label_als[:5],[np.mean(a) for a in eval_time_als[:5]])\n",
    "#ax2.set_xticks(x_label_lightfm)\n",
    "ax2.set_title('Model Evaluation Time')\n",
    "ax2.set_ylabel('Seconds')\n",
    "ax2.set_xlabel('Percent of Dataset Used')\n",
    "ax3.plot(x_label_lightfm,np.mean(performance_lightfm,axis=1))\n",
    "ax3.plot(x_label_als[:5],[np.mean(a) for a in performance_als[:5]])\n",
    "#ax3.set_xticks(x_label_lightfm)\n",
    "ax3.set_title('MAP for top 50 recs')\n",
    "ax3.set_ylabel('MAP')\n",
    "ax3.set_xlabel('Percent of Dataset Used')\n",
    "\n",
    "plt.legend(['LighFM Local','ALS HDFS'])\n",
    "plt.show()"
   ]
  },
  {
   "cell_type": "code",
   "execution_count": 12,
   "metadata": {},
   "outputs": [
    {
     "data": {
      "image/png": "[encoded data removed]",
      "text/plain": [
       "<Figure size 432x288 with 1 Axes>"
      ]
     },
     "metadata": {
      "needs_background": "light"
     },
     "output_type": "display_data"
    }
   ],
   "source": [
    "plt.plot(x_label_lightfm,np.mean(eval_time_lightfm,axis=1))\n",
    "plt.plot(x_label_als,[np.mean(a) for a in eval_time_als])\n",
    "#ax2.set_xticks(x_label)\n",
    "plt.title('Model Evaluation Time')\n",
    "plt.ylabel('Seconds')\n",
    "plt.xlabel('Percent of Dataset Used')\n",
    "plt.legend(['LighFM Local','ALS HDFS'])\n",
    "plt.show()"
   ]
  },
  {
   "cell_type": "code",
   "execution_count": null,
   "metadata": {},
   "outputs": [],
   "source": []
  }
 ],
 "metadata": {
  "kernelspec": {
   "display_name": "Python 3",
   "language": "python",
   "name": "python3"
  },
  "language_info": {
   "codemirror_mode": {
    "name": "ipython",
    "version": 3
   },
   "file_extension": ".py",
   "mimetype": "text/x-python",
   "name": "python",
   "nbconvert_exporter": "python",
   "pygments_lexer": "ipython3",
   "version": "3.6.8"
  }
 },
 "nbformat": 4,
 "nbformat_minor": 4
}
